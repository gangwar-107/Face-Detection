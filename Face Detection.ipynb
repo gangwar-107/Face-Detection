{
 "cells": [
  {
   "cell_type": "markdown",
   "metadata": {},
   "source": [
    "# Face, Eyes, Smiling Mouth Detection from the Video Stream "
   ]
  },
  {
   "cell_type": "markdown",
   "metadata": {},
   "source": [
    "### STEP-1:\n",
    "We have to create the cascade classes classifier or the objects using the CascadeClassifier method of CV2 library which takes                             the haar cascade (xml) files of Haar Like features as input to detect the features from the images.\n",
    "\n",
    " ##### Below is the link of the haar cascades files:\n",
    "\n",
    "https://github.com/opencv/opencv/tree/master/data/haarcascades\n"
   ]
  },
  {
   "cell_type": "code",
   "execution_count": 14,
   "metadata": {},
   "outputs": [],
   "source": [
    "# Face Recognition\n",
    "\n",
    "# Importing the libraries\n",
    "import cv2\n",
    "\n",
    "# Loading the cascades\n",
    "face_cascade = cv2.CascadeClassifier('haarcascade_frontalface_default.xml')\n",
    "eye_cascade = cv2.CascadeClassifier('haarcascade_eye.xml')\n",
    "smile_cascade = cv2.CascadeClassifier('haarcascade_smile.xml')\n",
    "\n"
   ]
  },
  {
   "cell_type": "markdown",
   "metadata": {},
   "source": [
    "### STEP-2:\n",
    "\n",
    "Detect function takes two arguments are gray scale and colored image which is captured from the video stream and return the colored images with the rectangles detecting to the face, eyes and smiling mouth.\n",
    "Using detectMultiScale method of the haar cascades upper left corner, width, height of the rectangle can be find.\n",
    "\n",
    "#### INCREASE THE EFFICIENCY:\n",
    "\n",
    "If we are not finding the efficient result then we will change the parameters to detectMultiScale method.We will increase the\n",
    "number of neighbors and scaling parameter\n"
   ]
  },
  {
   "cell_type": "code",
   "execution_count": 23,
   "metadata": {},
   "outputs": [],
   "source": [
    "# Defining a function that will do the detections\n",
    "def detect(gray, frame):\n",
    "    faces = face_cascade.detectMultiScale(gray, 1.3, 5)\n",
    "    for (x, y, w, h) in faces:\n",
    "        cv2.rectangle(frame, (x, y), (x+w, y+h), (255, 0, 0), 2)\n",
    "        roi_gray = gray[y:y+h, x:x+w]\n",
    "        roi_color = frame[y:y+h, x:x+w]\n",
    "        eyes = eye_cascade.detectMultiScale(roi_gray, 1.1, 10)\n",
    "        for (ex, ey, ew, eh) in eyes:\n",
    "            cv2.rectangle(roi_color, (ex, ey), (ex+ew, ey+eh), (0, 255, 0), 2)\n",
    "        smiles = smile_cascade.detectMultiScale(roi_gray, 1.1, 22)\n",
    "        for (sx, sy, sw, sh) in smiles:\n",
    "            cv2.rectangle(roi_color, (sx, sy), (sx+sw, sy+sh), (0, 0, 255), 2)\n",
    "            \n",
    "    return frame\n",
    "\n"
   ]
  },
  {
   "cell_type": "markdown",
   "metadata": {},
   "source": [
    "### STEP-3:\n",
    "\n",
    "Video Capture is the method of the cv2 library which is used to capture the video from the the webcam.For capturing the frames from the video we need to follow the below steps:\n",
    "\n",
    "1- we make the object of the video capture class.\n",
    "\n",
    "2- Call the read method of video capture class which returns the frame from the video stream.\n",
    "\n",
    "3- Find the gray scale copy using cvtColor method of CV2 library.\n",
    "\n",
    "4- Passing the gray and colored images to the detect function.\n",
    "\n",
    "5- Creating the window for displaying the video with Face detection."
   ]
  },
  {
   "cell_type": "code",
   "execution_count": 24,
   "metadata": {},
   "outputs": [],
   "source": [
    "# Doing some Face Recognition with the webcam\n",
    "\n",
    "video_capture = cv2.VideoCapture(0)\n",
    "while True:\n",
    "    _, frame = video_capture.read()\n",
    "    gray = cv2.cvtColor(frame, cv2.COLOR_BGR2GRAY)\n",
    "    canvas = detect(gray, frame)\n",
    "    cv2.imshow('Video', canvas)\n",
    "    if cv2.waitKey(1) & 0xFF == ord('q'):\n",
    "        break\n",
    "video_capture.release()\n",
    "cv2.destroyAllWindows()"
   ]
  }
 ],
 "metadata": {
  "kernelspec": {
   "display_name": "Python 3",
   "language": "python",
   "name": "python3"
  },
  "language_info": {
   "codemirror_mode": {
    "name": "ipython",
    "version": 3
   },
   "file_extension": ".py",
   "mimetype": "text/x-python",
   "name": "python",
   "nbconvert_exporter": "python",
   "pygments_lexer": "ipython3",
   "version": "3.6.6"
  }
 },
 "nbformat": 4,
 "nbformat_minor": 2
}
